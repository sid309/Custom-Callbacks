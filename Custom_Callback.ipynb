{
  "nbformat": 4,
  "nbformat_minor": 0,
  "metadata": {
    "colab": {
      "name": "Custom Callback.ipynb",
      "provenance": []
    },
    "kernelspec": {
      "name": "python3",
      "display_name": "Python 3"
    },
    "language_info": {
      "name": "python"
    },
    "accelerator": "GPU"
  },
  "cells": [
    {
      "cell_type": "code",
      "metadata": {
        "id": "VmLEysHs3mB1",
        "colab": {
          "base_uri": "https://localhost:8080/"
        },
        "outputId": "bcc6640d-144b-4036-906f-278fb78387ff"
      },
      "source": [
        "import tensorflow as tf\n",
        "import matplotlib.pyplot as plt\n",
        "import numpy as np\n",
        "import datetime\n",
        "import io\n",
        "from PIL import Image\n",
        "from IPython.display import Image as IPyImage\n",
        "import imageio\n",
        "print(\"Version: \", tf.__version__)\n",
        "tf.get_logger().setLevel('INFO')"
      ],
      "execution_count": 29,
      "outputs": [
        {
          "output_type": "stream",
          "text": [
            "Version:  2.6.0\n"
          ],
          "name": "stdout"
        }
      ]
    },
    {
      "cell_type": "code",
      "metadata": {
        "id": "wxlx0Ar_-2o-"
      },
      "source": [
        "def get_model():\n",
        "    model = tf.keras.Sequential()\n",
        "    model.add(tf.keras.layers.Dense(1, activation = 'linear', input_dim = 784))\n",
        "    model.compile(optimizer=tf.keras.optimizers.RMSprop(lr=0.1), loss='mean_squared_error', metrics=['mae'])\n",
        "    return model"
      ],
      "execution_count": 30,
      "outputs": []
    },
    {
      "cell_type": "code",
      "metadata": {
        "id": "WGN9DRIY8Vp-"
      },
      "source": [
        "(x_train,y_train),(x_test,y_test)=tf.keras.datasets.mnist.load_data()\n",
        "x_train=x_train.reshape(60000,784).astype('float32')/255\n",
        "x_test=x_test.reshape(10000,784).astype('float32')/255"
      ],
      "execution_count": 31,
      "outputs": []
    },
    {
      "cell_type": "code",
      "metadata": {
        "id": "5M-uxDot8trJ"
      },
      "source": [
        "class myCallback(tf.keras.callbacks.Callback):\n",
        "  def on_train_batch_begin(self,batch,logs=None):\n",
        "    print('training of batch{} begins at {}'.format(batch,datetime.datetime.now().time()))\n",
        "  def on_train_batch_end(self,batch,logs=None):\n",
        "    print('training of batch{} ends at {}'.format(batch,datetime.datetime.now().time()))\n",
        "    "
      ],
      "execution_count": 32,
      "outputs": []
    },
    {
      "cell_type": "code",
      "metadata": {
        "colab": {
          "base_uri": "https://localhost:8080/"
        },
        "id": "KTBhiYui_6t7",
        "outputId": "5384959c-e292-4367-b4df-47229e567073"
      },
      "source": [
        "model=get_model()\n",
        "model.fit(x_train,y_train,epochs=1,steps_per_epoch=5,verbose=0,callbacks=[myCallback()])"
      ],
      "execution_count": 33,
      "outputs": [
        {
          "output_type": "stream",
          "text": [
            "/usr/local/lib/python3.7/dist-packages/keras/optimizer_v2/optimizer_v2.py:356: UserWarning: The `lr` argument is deprecated, use `learning_rate` instead.\n",
            "  \"The `lr` argument is deprecated, use `learning_rate` instead.\")\n"
          ],
          "name": "stderr"
        },
        {
          "output_type": "stream",
          "text": [
            "training of batch0 begins at 14:53:55.070617\n",
            "training of batch0 ends at 14:53:55.319297\n",
            "training of batch1 begins at 14:53:55.319479\n",
            "training of batch1 ends at 14:53:55.336283\n",
            "training of batch2 begins at 14:53:55.336426\n",
            "training of batch2 ends at 14:53:55.352622\n",
            "training of batch3 begins at 14:53:55.352759\n",
            "training of batch3 ends at 14:53:55.364099\n",
            "training of batch4 begins at 14:53:55.364202\n",
            "training of batch4 ends at 14:53:55.374635\n"
          ],
          "name": "stdout"
        },
        {
          "output_type": "execute_result",
          "data": {
            "text/plain": [
              "<keras.callbacks.History at 0x7f4be432de90>"
            ]
          },
          "metadata": {},
          "execution_count": 33
        }
      ]
    },
    {
      "cell_type": "code",
      "metadata": {
        "colab": {
          "base_uri": "https://localhost:8080/"
        },
        "id": "Nm_vcafPAYOV",
        "outputId": "71eca7e6-3354-40d2-f491-1cfbd6e916cd"
      },
      "source": [
        "callback = tf.keras.callbacks.LambdaCallback(\n",
        "    on_epoch_end=lambda epoch,logs: \n",
        "    print(\"Epoch: {}, Val/Train loss ratio: {:.2f}\".format(epoch, logs[\"val_loss\"] / logs[\"loss\"]))\n",
        ")\n",
        "\n",
        "model = get_model()\n",
        "model.fit(x_train, y_train,\n",
        "          validation_data=(x_test, y_test),\n",
        "          batch_size=64,\n",
        "          epochs=3,\n",
        "          verbose=0,\n",
        "          callbacks=[callback])"
      ],
      "execution_count": 34,
      "outputs": [
        {
          "output_type": "stream",
          "text": [
            "/usr/local/lib/python3.7/dist-packages/keras/optimizer_v2/optimizer_v2.py:356: UserWarning: The `lr` argument is deprecated, use `learning_rate` instead.\n",
            "  \"The `lr` argument is deprecated, use `learning_rate` instead.\")\n"
          ],
          "name": "stderr"
        },
        {
          "output_type": "stream",
          "text": [
            "Epoch: 0, Val/Train loss ratio: 0.76\n",
            "Epoch: 1, Val/Train loss ratio: 0.85\n",
            "Epoch: 2, Val/Train loss ratio: 0.69\n"
          ],
          "name": "stdout"
        },
        {
          "output_type": "execute_result",
          "data": {
            "text/plain": [
              "<keras.callbacks.History at 0x7f4be432d3d0>"
            ]
          },
          "metadata": {},
          "execution_count": 34
        }
      ]
    },
    {
      "cell_type": "code",
      "metadata": {
        "colab": {
          "base_uri": "https://localhost:8080/"
        },
        "id": "PTYKHjNpBRl0",
        "outputId": "13ee60ab-d0ff-4ee9-c21c-d0adb26d3b42"
      },
      "source": [
        "class DetectOverfittingCallback(tf.keras.callbacks.Callback):\n",
        "    def __init__(self, threshold=0.7):\n",
        "        super(DetectOverfittingCallback, self).__init__()\n",
        "        self.threshold = threshold\n",
        "\n",
        "    def on_epoch_end(self, epoch, logs=None):\n",
        "        ratio = logs[\"val_loss\"] / logs[\"loss\"]\n",
        "        print(\"Epoch: {}, Val/Train loss ratio: {:.2f}\".format(epoch, ratio))\n",
        "\n",
        "        if ratio > self.threshold:\n",
        "            print(\"Stopping training...\")\n",
        "            self.model.stop_training = True\n",
        "\n",
        "model = get_model()\n",
        "model.fit(x_train, y_train,\n",
        "              validation_data=(x_test, y_test),\n",
        "              batch_size=64,\n",
        "              epochs=3,\n",
        "              verbose=0,\n",
        "              callbacks=[DetectOverfittingCallback()])"
      ],
      "execution_count": 35,
      "outputs": [
        {
          "output_type": "stream",
          "text": [
            "/usr/local/lib/python3.7/dist-packages/keras/optimizer_v2/optimizer_v2.py:356: UserWarning: The `lr` argument is deprecated, use `learning_rate` instead.\n",
            "  \"The `lr` argument is deprecated, use `learning_rate` instead.\")\n"
          ],
          "name": "stderr"
        },
        {
          "output_type": "stream",
          "text": [
            "Epoch: 0, Val/Train loss ratio: 2.37\n",
            "Stopping training...\n"
          ],
          "name": "stdout"
        },
        {
          "output_type": "execute_result",
          "data": {
            "text/plain": [
              "<keras.callbacks.History at 0x7f4be40ed510>"
            ]
          },
          "metadata": {},
          "execution_count": 35
        }
      ]
    },
    {
      "cell_type": "code",
      "metadata": {
        "id": "M_I1JLfUCMRu"
      },
      "source": [
        "(x_train, y_train), (x_test, y_test) = tf.keras.datasets.mnist.load_data()\n",
        "x_train = x_train.reshape(60000, 784).astype('float32') / 255\n",
        "x_test = x_test.reshape(10000, 784).astype('float32') / 255"
      ],
      "execution_count": 36,
      "outputs": []
    },
    {
      "cell_type": "code",
      "metadata": {
        "id": "84MBj0uTCeAD"
      },
      "source": [
        "plt.rc('font',size=20)\n",
        "plt.rc('figure',figsize=(15,3))\n",
        "\n",
        "def display_digits(inputs,outputs,epoch,ground_truth,n=10):\n",
        "  plt.clf()\n",
        "\n",
        "  plt.yticks([])\n",
        "  plt.grid(None)\n",
        "  inputs = np.reshape(inputs, [n, 28, 28])\n",
        "  inputs = np.swapaxes(inputs, 0, 1)\n",
        "  inputs = np.reshape(inputs, [28, 28*n])\n",
        "  plt.imshow(inputs)\n",
        "  plt.xticks([28*x+14 for x in range(n)], outputs)\n",
        "  for i,t in enumerate(plt.gca().xaxis.get_ticklabels()):\n",
        "       if outputs[i] == ground_truth[i]: \n",
        "           t.set_color('green') \n",
        "       else: \n",
        "           t.set_color('red')\n",
        "  plt.grid(None)"
      ],
      "execution_count": 52,
      "outputs": []
    },
    {
      "cell_type": "code",
      "metadata": {
        "id": "-keE9Q5sERse"
      },
      "source": [
        "GIF_PATH = './animation.gif'"
      ],
      "execution_count": 53,
      "outputs": []
    },
    {
      "cell_type": "code",
      "metadata": {
        "id": "P_xaI4x0HeR-"
      },
      "source": [
        "class VisCallback(tf.keras.callbacks.Callback):\n",
        "    def __init__(self, inputs, ground_truth, display_freq=10, n_samples=10):\n",
        "        self.inputs = inputs\n",
        "        self.ground_truth = ground_truth\n",
        "        self.images = []\n",
        "        self.display_freq = display_freq\n",
        "        self.n_samples = n_samples\n",
        "\n",
        "    def on_epoch_end(self, epoch, logs=None):\n",
        "        indexes = np.random.choice(len(self.inputs), size=self.n_samples)\n",
        "        X_test, y_test = self.inputs[indexes], self.ground_truth[indexes]\n",
        "        predictions = np.argmax(self.model.predict(X_test), axis=1)\n",
        "        display_digits(X_test, predictions, y_test, epoch, n=self.display_freq)\n",
        "        buf = io.BytesIO()\n",
        "        plt.savefig(buf, format='png')\n",
        "        buf.seek(0)\n",
        "        image = Image.open(buf)\n",
        "        self.images.append(np.array(image))\n",
        "        if epoch % self.display_freq == 0:\n",
        "            plt.show()\n",
        "\n",
        "    def on_train_end(self, logs=None):\n",
        "        imageio.mimsave(GIF_PATH, self.images, fps=1)"
      ],
      "execution_count": 54,
      "outputs": []
    },
    {
      "cell_type": "code",
      "metadata": {
        "id": "YGyroXcGHYnW"
      },
      "source": [
        "def get_model():\n",
        "    model = tf.keras.Sequential()\n",
        "    model.add(tf.keras.layers.Dense(32, activation='linear', input_dim=784))\n",
        "    model.add(tf.keras.layers.Dense(10, activation='softmax'))\n",
        "    model.compile(optimizer=tf.keras.optimizers.RMSprop(lr=1e-4), loss='sparse_categorical_crossentropy', metrics=['accuracy'])\n",
        "    return model"
      ],
      "execution_count": 55,
      "outputs": []
    },
    {
      "cell_type": "code",
      "metadata": {
        "id": "wfQ0ItH-KZj6"
      },
      "source": [
        ""
      ],
      "execution_count": null,
      "outputs": []
    }
  ]
}